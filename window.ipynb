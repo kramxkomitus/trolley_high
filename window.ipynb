{
 "cells": [
  {
   "cell_type": "code",
   "execution_count": 1,
   "metadata": {},
   "outputs": [],
   "source": [
    "def filter(filter_arr, val):\n",
    "\tfilter_arr.append(val)\n",
    "\tif len(filter_arr) > 10:\n",
    "\t\tfilter_arr.pop(0)\n",
    "\treturn sum(filter_arr) / len(filter_arr)"
   ]
  },
  {
   "cell_type": "code",
   "execution_count": 3,
   "metadata": {},
   "outputs": [
    {
     "name": "stdout",
     "output_type": "stream",
     "text": [
      "[1, 2, 2, 1, 2, 5, 6, 3, 2, 3, 3, 2, 3]\n",
      "[1] 1.0\n",
      "[1, 2] 1.5\n",
      "[1, 2, 2] 1.6666666666666667\n",
      "[1, 2, 2, 1] 1.5\n",
      "[1, 2, 2, 1, 2] 1.6\n",
      "[1, 2, 2, 1, 2, 5] 2.1666666666666665\n",
      "[1, 2, 2, 1, 2, 5, 6] 2.7142857142857144\n",
      "[1, 2, 2, 1, 2, 5, 6, 3] 2.75\n",
      "[1, 2, 2, 1, 2, 5, 6, 3, 2] 2.6666666666666665\n",
      "[1, 2, 2, 1, 2, 5, 6, 3, 2, 3] 2.7\n",
      "[2, 2, 1, 2, 5, 6, 3, 2, 3, 3] 2.9\n",
      "[2, 1, 2, 5, 6, 3, 2, 3, 3, 2] 2.9\n",
      "[1, 2, 5, 6, 3, 2, 3, 3, 2, 3] 3.0\n"
     ]
    }
   ],
   "source": [
    "m = list([1, 2, 2, 1, 2, 5, 6, 3, 2, 3, 3, 2, 3])\n",
    "print(m)\n",
    "n = list()\n",
    "for i in m:\n",
    "    a = filter(n, i)\n",
    "    print(n, a)"
   ]
  }
 ],
 "metadata": {
  "kernelspec": {
   "display_name": "Python 3",
   "language": "python",
   "name": "python3"
  },
  "language_info": {
   "codemirror_mode": {
    "name": "ipython",
    "version": 3
   },
   "file_extension": ".py",
   "mimetype": "text/x-python",
   "name": "python",
   "nbconvert_exporter": "python",
   "pygments_lexer": "ipython3",
   "version": "3.9.2"
  },
  "orig_nbformat": 4,
  "vscode": {
   "interpreter": {
    "hash": "767d51c1340bd893661ea55ea3124f6de3c7a262a8b4abca0554b478b1e2ff90"
   }
  }
 },
 "nbformat": 4,
 "nbformat_minor": 2
}

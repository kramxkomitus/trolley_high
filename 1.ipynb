{
 "cells": [
  {
   "cell_type": "code",
   "execution_count": 47,
   "metadata": {},
   "outputs": [
    {
     "name": "stdout",
     "output_type": "stream",
     "text": [
      "settings are loaded\n",
      "{\n",
      "    \"CNY_kf_bottom\": 125,\n",
      "    \"CNY_kf_up\": 175,\n",
      "    \"blur_kf\": 3,\n",
      "    \"maxLineGap\": 5,\n",
      "    \"minLineLength \": 10,\n",
      "    \"threshold\": 2\n",
      "}\n"
     ]
    }
   ],
   "source": [
    "\n",
    "\tload_settings(0)"
   ]
  },
  {
   "cell_type": "code",
   "execution_count": 37,
   "metadata": {},
   "outputs": [
    {
     "name": "stdout",
     "output_type": "stream",
     "text": [
      "'blur_kf': 3, 'CNY_kf_bottom': 125, 'CNY_kf_up': 175, 'threshold': 2, 'minLineLength ': 10, 'maxLineGap': 5}\n",
      "\n"
     ]
    }
   ],
   "source": [
    "\n",
    "file_name = \"cam_\" + str(0) + \"_settings.csf\"\n",
    "file = open(file_name, 'r', encoding='utf8')\n",
    "lines = file.read()\n",
    "replacements = {\n",
    "    '' : '}',\n",
    "    '' : '{'\n",
    "}\n",
    "for key, value in replacements.items():\n",
    "    lines = lines.replace(value, key)\n",
    "# lines = file.read().splitlines()\n",
    "print(lines)\n",
    "# for line in lines:\n",
    "    # print(line)"
   ]
  },
  {
   "cell_type": "code",
   "execution_count": null,
   "metadata": {},
   "outputs": [],
   "source": []
  }
 ],
 "metadata": {
  "kernelspec": {
   "display_name": "Python 3.9.2 ('python3.9': venv)",
   "language": "python",
   "name": "python3"
  },
  "language_info": {
   "codemirror_mode": {
    "name": "ipython",
    "version": 3
   },
   "file_extension": ".py",
   "mimetype": "text/x-python",
   "name": "python",
   "nbconvert_exporter": "python",
   "pygments_lexer": "ipython3",
   "version": "3.9.2"
  },
  "orig_nbformat": 4,
  "vscode": {
   "interpreter": {
    "hash": "baf46ce810109afc016d008c5e11af88084b548f8ad5ddc06339c33a79b0f5cf"
   }
  }
 },
 "nbformat": 4,
 "nbformat_minor": 2
}

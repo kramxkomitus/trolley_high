{
 "cells": [
  {
   "cell_type": "code",
   "execution_count": 1,
   "metadata": {},
   "outputs": [],
   "source": [
    "def filter(filter_arr, val):\n",
    "\tfilter_arr.append(val)\n",
    "\tif len(filter_arr) > 10:\n",
    "\t\tfilter_arr.pop(0)\n",
    "\treturn sum(filter_arr) / len(filter_arr)"
   ]
  },
  {
   "cell_type": "code",
   "execution_count": 3,
   "metadata": {},
   "outputs": [
    {
     "ename": "SerialException",
     "evalue": "[Errno 2] could not open port /dev/ttyUSB5: [Errno 2] No such file or directory: '/dev/ttyUSB5'",
     "output_type": "error",
     "traceback": [
      "\u001b[0;31m---------------------------------------------------------------------------\u001b[0m",
      "\u001b[0;31mFileNotFoundError\u001b[0m                         Traceback (most recent call last)",
      "File \u001b[0;32m~/.local/lib/python3.9/site-packages/serial/serialposix.py:322\u001b[0m, in \u001b[0;36mSerial.open\u001b[0;34m(self)\u001b[0m\n\u001b[1;32m    321\u001b[0m \u001b[39mtry\u001b[39;00m:\n\u001b[0;32m--> 322\u001b[0m     \u001b[39mself\u001b[39m\u001b[39m.\u001b[39mfd \u001b[39m=\u001b[39m os\u001b[39m.\u001b[39;49mopen(\u001b[39mself\u001b[39;49m\u001b[39m.\u001b[39;49mportstr, os\u001b[39m.\u001b[39;49mO_RDWR \u001b[39m|\u001b[39;49m os\u001b[39m.\u001b[39;49mO_NOCTTY \u001b[39m|\u001b[39;49m os\u001b[39m.\u001b[39;49mO_NONBLOCK)\n\u001b[1;32m    323\u001b[0m \u001b[39mexcept\u001b[39;00m \u001b[39mOSError\u001b[39;00m \u001b[39mas\u001b[39;00m msg:\n",
      "\u001b[0;31mFileNotFoundError\u001b[0m: [Errno 2] No such file or directory: '/dev/ttyUSB5'",
      "\nDuring handling of the above exception, another exception occurred:\n",
      "\u001b[0;31mSerialException\u001b[0m                           Traceback (most recent call last)",
      "Cell \u001b[0;32mIn[3], line 3\u001b[0m\n\u001b[1;32m      1\u001b[0m \u001b[39mimport\u001b[39;00m \u001b[39mserial\u001b[39;00m\n\u001b[1;32m      2\u001b[0m drives_path \u001b[39m=\u001b[39m \u001b[39m\"\u001b[39m\u001b[39m/dev/ttyUSB5\u001b[39m\u001b[39m\"\u001b[39m\n\u001b[0;32m----> 3\u001b[0m uart \u001b[39m=\u001b[39m serial\u001b[39m.\u001b[39;49mSerial(drives_path, baudrate\u001b[39m=\u001b[39;49m\u001b[39m115200\u001b[39;49m)\n",
      "File \u001b[0;32m~/.local/lib/python3.9/site-packages/serial/serialutil.py:244\u001b[0m, in \u001b[0;36mSerialBase.__init__\u001b[0;34m(self, port, baudrate, bytesize, parity, stopbits, timeout, xonxoff, rtscts, write_timeout, dsrdtr, inter_byte_timeout, exclusive, **kwargs)\u001b[0m\n\u001b[1;32m    241\u001b[0m     \u001b[39mraise\u001b[39;00m \u001b[39mValueError\u001b[39;00m(\u001b[39m'\u001b[39m\u001b[39munexpected keyword arguments: \u001b[39m\u001b[39m{!r}\u001b[39;00m\u001b[39m'\u001b[39m\u001b[39m.\u001b[39mformat(kwargs))\n\u001b[1;32m    243\u001b[0m \u001b[39mif\u001b[39;00m port \u001b[39mis\u001b[39;00m \u001b[39mnot\u001b[39;00m \u001b[39mNone\u001b[39;00m:\n\u001b[0;32m--> 244\u001b[0m     \u001b[39mself\u001b[39;49m\u001b[39m.\u001b[39;49mopen()\n",
      "File \u001b[0;32m~/.local/lib/python3.9/site-packages/serial/serialposix.py:325\u001b[0m, in \u001b[0;36mSerial.open\u001b[0;34m(self)\u001b[0m\n\u001b[1;32m    323\u001b[0m \u001b[39mexcept\u001b[39;00m \u001b[39mOSError\u001b[39;00m \u001b[39mas\u001b[39;00m msg:\n\u001b[1;32m    324\u001b[0m     \u001b[39mself\u001b[39m\u001b[39m.\u001b[39mfd \u001b[39m=\u001b[39m \u001b[39mNone\u001b[39;00m\n\u001b[0;32m--> 325\u001b[0m     \u001b[39mraise\u001b[39;00m SerialException(msg\u001b[39m.\u001b[39merrno, \u001b[39m\"\u001b[39m\u001b[39mcould not open port \u001b[39m\u001b[39m{}\u001b[39;00m\u001b[39m: \u001b[39m\u001b[39m{}\u001b[39;00m\u001b[39m\"\u001b[39m\u001b[39m.\u001b[39mformat(\u001b[39mself\u001b[39m\u001b[39m.\u001b[39m_port, msg))\n\u001b[1;32m    326\u001b[0m \u001b[39m#~ fcntl.fcntl(self.fd, fcntl.F_SETFL, 0)  # set blocking\u001b[39;00m\n\u001b[1;32m    328\u001b[0m \u001b[39mself\u001b[39m\u001b[39m.\u001b[39mpipe_abort_read_r, \u001b[39mself\u001b[39m\u001b[39m.\u001b[39mpipe_abort_read_w \u001b[39m=\u001b[39m \u001b[39mNone\u001b[39;00m, \u001b[39mNone\u001b[39;00m\n",
      "\u001b[0;31mSerialException\u001b[0m: [Errno 2] could not open port /dev/ttyUSB5: [Errno 2] No such file or directory: '/dev/ttyUSB5'"
     ]
    }
   ],
   "source": [
    "import serial\n",
    "drives_path = \"/dev/ttyUSB5\"\n",
    "uart = serial.Serial(drives_path, baudrate=115200)\n",
    "\n"
   ]
  },
  {
   "cell_type": "code",
   "execution_count": 3,
   "metadata": {},
   "outputs": [
    {
     "name": "stdout",
     "output_type": "stream",
     "text": [
      "[1, 2, 2, 1, 2, 5, 6, 3, 2, 3, 3, 2, 3]\n",
      "[1] 1.0\n",
      "[1, 2] 1.5\n",
      "[1, 2, 2] 1.6666666666666667\n",
      "[1, 2, 2, 1] 1.5\n",
      "[1, 2, 2, 1, 2] 1.6\n",
      "[1, 2, 2, 1, 2, 5] 2.1666666666666665\n",
      "[1, 2, 2, 1, 2, 5, 6] 2.7142857142857144\n",
      "[1, 2, 2, 1, 2, 5, 6, 3] 2.75\n",
      "[1, 2, 2, 1, 2, 5, 6, 3, 2] 2.6666666666666665\n",
      "[1, 2, 2, 1, 2, 5, 6, 3, 2, 3] 2.7\n",
      "[2, 2, 1, 2, 5, 6, 3, 2, 3, 3] 2.9\n",
      "[2, 1, 2, 5, 6, 3, 2, 3, 3, 2] 2.9\n",
      "[1, 2, 5, 6, 3, 2, 3, 3, 2, 3] 3.0\n"
     ]
    }
   ],
   "source": [
    "m = list([1, 2, 2, 1, 2, 5, 6, 3, 2, 3, 3, 2, 3])\n",
    "print(m)\n",
    "n = list()\n",
    "for i in m:\n",
    "    a = filter(n, i)\n",
    "    print(n, a)"
   ]
  },
  {
   "cell_type": "code",
   "execution_count": 2,
   "metadata": {},
   "outputs": [
    {
     "name": "stdout",
     "output_type": "stream",
     "text": [
      "L 300\t\t\tR 300\n"
     ]
    }
   ],
   "source": [
    "import HW_interface as HW\n",
    "R_str = \"R \" + str(300)\n",
    "L_str = \"L \" + str(300)\n",
    "print(L_str + '\\t\\t\\t' + R_str)\n",
    "HW.send_drives('start')\n",
    "HW.send_drives(R_str)\n",
    "HW.send_drives(L_str)"
   ]
  },
  {
   "cell_type": "code",
   "execution_count": 5,
   "metadata": {},
   "outputs": [
    {
     "ename": "TypeError",
     "evalue": "%d format: a number is required, not tuple",
     "output_type": "error",
     "traceback": [
      "\u001b[0;31m---------------------------------------------------------------------------\u001b[0m",
      "\u001b[0;31mTypeError\u001b[0m                                 Traceback (most recent call last)",
      "Cell \u001b[0;32mIn[5], line 4\u001b[0m\n\u001b[1;32m      1\u001b[0m angle, anglepoint \u001b[39m=\u001b[39m \u001b[39m40\u001b[39m, (\u001b[39m3\u001b[39m, \u001b[39m0\u001b[39m)\n\u001b[1;32m      2\u001b[0m scrn_data \u001b[39m=\u001b[39m \\\n\u001b[1;32m      3\u001b[0m \u001b[39m'\u001b[39m\u001b[39m\\n\u001b[39;00m\u001b[39m'\u001b[39m \u001b[39m*\u001b[39m \u001b[39m10\u001b[39m \u001b[39m+\u001b[39m \\\n\u001b[0;32m----> 4\u001b[0m \u001b[39m'\u001b[39;49m\u001b[39mangle: \u001b[39;49m\u001b[39m%d\u001b[39;49;00m\u001b[39m\\t\u001b[39;49;00m\u001b[39m\\t\u001b[39;49;00m\u001b[39m point: \u001b[39;49m\u001b[39m%d\u001b[39;49;00m\u001b[39m'\u001b[39;49m \u001b[39m%\u001b[39;49m (angle, anglepoint)\n",
      "\u001b[0;31mTypeError\u001b[0m: %d format: a number is required, not tuple"
     ]
    }
   ],
   "source": [
    "angle, anglepoint = 40, (3, 0)\n",
    "scrn_data = \\\n",
    "'\\n' * 10 + \\\n",
    "'angle: %d\\t\\t point: %d, ' % (angle, anglepoint)"
   ]
  },
  {
   "cell_type": "code",
   "execution_count": 14,
   "metadata": {},
   "outputs": [
    {
     "name": "stdout",
     "output_type": "stream",
     "text": [
      "P, I, D: 1\n",
      "R 40 L {left}\n"
     ]
    }
   ],
   "source": [
    "P, I, D = 1, 2, 3\n",
    "A  = f\"P, I, D: {P}\"\n",
    "print(A)\n",
    "\n",
    "right = 40\n",
    "R_str = f\"R {right}\"\n",
    "L_str = \"L {left}\"\n",
    "print(R_str, L_str)"
   ]
  },
  {
   "cell_type": "code",
   "execution_count": 18,
   "metadata": {},
   "outputs": [
    {
     "name": "stdout",
     "output_type": "stream",
     "text": [
      "recognition time: (34, 4234) sec\n",
      "\n"
     ]
    }
   ],
   "source": [
    "t_det = 3.42354\n",
    "f = (34, 4234)\n",
    "M = f'recognition time: {f} sec\\n'\n",
    "print(M)"
   ]
  }
 ],
 "metadata": {
  "kernelspec": {
   "display_name": "Python 3",
   "language": "python",
   "name": "python3"
  },
  "language_info": {
   "codemirror_mode": {
    "name": "ipython",
    "version": 3
   },
   "file_extension": ".py",
   "mimetype": "text/x-python",
   "name": "python",
   "nbconvert_exporter": "python",
   "pygments_lexer": "ipython3",
   "version": "3.9.2"
  },
  "orig_nbformat": 4,
  "vscode": {
   "interpreter": {
    "hash": "767d51c1340bd893661ea55ea3124f6de3c7a262a8b4abca0554b478b1e2ff90"
   }
  }
 },
 "nbformat": 4,
 "nbformat_minor": 2
}

{
 "cells": [
  {
   "attachments": {},
   "cell_type": "markdown",
   "metadata": {},
   "source": [
    "https://python-evdev.readthedocs.io/en/latest/tutorial.html#reading-events"
   ]
  },
  {
   "cell_type": "code",
   "execution_count": 4,
   "metadata": {},
   "outputs": [],
   "source": [
    "import evdev"
   ]
  },
  {
   "cell_type": "code",
   "execution_count": 5,
   "metadata": {},
   "outputs": [
    {
     "name": "stdout",
     "output_type": "stream",
     "text": [
      "[InputDevice('/dev/input/event2'), InputDevice('/dev/input/event1'), InputDevice('/dev/input/event0')]\n",
      "find controller /dev/input/event2 vc4 vc4/input0\n"
     ]
    },
    {
     "data": {
      "text/plain": [
       "False"
      ]
     },
     "execution_count": 5,
     "metadata": {},
     "output_type": "execute_result"
    }
   ],
   "source": [
    "def find_gamepad():\n",
    "    devices = [evdev.InputDevice(path) for path in evdev.list_devices()]\n",
    "    print(devices)\n",
    "    for device in devices:\n",
    "        print(\"find controller\", device.path, device.name, device.phys)\n",
    "        if \"Xbox Wireless Controller\" in device.name:\n",
    "            return device\n",
    "        else:\n",
    "            return False\n",
    "\n",
    "\n",
    "find_gamepad()"
   ]
  },
  {
   "cell_type": "code",
   "execution_count": 10,
   "metadata": {},
   "outputs": [
    {
     "name": "stdout",
     "output_type": "stream",
     "text": [
      "[InputDevice('/dev/input/event3'), InputDevice('/dev/input/event2'), InputDevice('/dev/input/event1'), InputDevice('/dev/input/event0')]\n",
      "find controller /dev/input/event3 Xbox Wireless Controller e4:5f:01:cd:bc:ff\n",
      "event at 1671815888.386746, code 158, type 01, val 01\n",
      "event at 1671815888.604278, code 158, type 01, val 00\n",
      "event at 1671815890.666834, code 158, type 01, val 01\n",
      "event at 1671815890.914293, code 158, type 01, val 00\n"
     ]
    },
    {
     "ename": "KeyboardInterrupt",
     "evalue": "",
     "output_type": "error",
     "traceback": [
      "\u001b[0;31m---------------------------------------------------------------------------\u001b[0m",
      "\u001b[0;31mKeyboardInterrupt\u001b[0m                         Traceback (most recent call last)",
      "Cell \u001b[0;32mIn[10], line 6\u001b[0m\n\u001b[1;32m      4\u001b[0m Joystik \u001b[39m=\u001b[39m find_gamepad()\n\u001b[1;32m      5\u001b[0m \u001b[39mif\u001b[39;00m Joystik \u001b[39m!=\u001b[39m \u001b[39mFalse\u001b[39;00m:  \n\u001b[0;32m----> 6\u001b[0m     \u001b[39mfor\u001b[39;00m event \u001b[39min\u001b[39;00m Joystik\u001b[39m.\u001b[39mread_loop():\n\u001b[1;32m      7\u001b[0m         \u001b[39mif\u001b[39;00m event\u001b[39m.\u001b[39mtype \u001b[39m==\u001b[39m ecodes\u001b[39m.\u001b[39mEV_KEY:\n\u001b[1;32m      8\u001b[0m             \u001b[39mprint\u001b[39m(event)\n",
      "File \u001b[0;32m~/.local/lib/python3.9/site-packages/evdev/eventio.py:45\u001b[0m, in \u001b[0;36mEventIO.read_loop\u001b[0;34m(self)\u001b[0m\n\u001b[1;32m     40\u001b[0m \u001b[39m'''\u001b[39;00m\n\u001b[1;32m     41\u001b[0m \u001b[39mEnter an endless :func:`select.select()` loop that yields input events.\u001b[39;00m\n\u001b[1;32m     42\u001b[0m \u001b[39m'''\u001b[39;00m\n\u001b[1;32m     44\u001b[0m \u001b[39mwhile\u001b[39;00m \u001b[39mTrue\u001b[39;00m:\n\u001b[0;32m---> 45\u001b[0m     r, w, x \u001b[39m=\u001b[39m select\u001b[39m.\u001b[39;49mselect([\u001b[39mself\u001b[39;49m\u001b[39m.\u001b[39;49mfd], [], [])\n\u001b[1;32m     46\u001b[0m     \u001b[39mfor\u001b[39;00m event \u001b[39min\u001b[39;00m \u001b[39mself\u001b[39m\u001b[39m.\u001b[39mread():\n\u001b[1;32m     47\u001b[0m         \u001b[39myield\u001b[39;00m event\n",
      "\u001b[0;31mKeyboardInterrupt\u001b[0m: "
     ]
    }
   ],
   "source": [
    "from evdev import ecodes\n",
    "import time\n",
    "moment = 0\n",
    "Joystik = find_gamepad()\n",
    "if Joystik != False:  \n",
    "    for event in Joystik.read_loop():\n",
    "        if event.type == ecodes.EV_KEY:\n",
    "            print(event)\n",
    "            if event.code == 304 and not event.value:\n",
    "                print(event)           \n",
    "        # if event.type == ecodes.EV_ABS:\n",
    "            # print(event)\n",
    "            # print(event.usec)\n",
    "                     \n"
   ]
  },
  {
   "cell_type": "code",
   "execution_count": 20,
   "metadata": {},
   "outputs": [
    {
     "name": "stdout",
     "output_type": "stream",
     "text": [
      "key event at 1671317443.933233, 304 (['BTN_A', 'BTN_GAMEPAD', 'BTN_SOUTH']), down\n",
      "key event at 1671317444.060891, 304 (['BTN_A', 'BTN_GAMEPAD', 'BTN_SOUTH']), up\n",
      "key event at 1671317444.810756, 304 (['BTN_A', 'BTN_GAMEPAD', 'BTN_SOUTH']), down\n",
      "key event at 1671317444.945750, 304 (['BTN_A', 'BTN_GAMEPAD', 'BTN_SOUTH']), up\n",
      "key event at 1671317445.500766, 304 (['BTN_A', 'BTN_GAMEPAD', 'BTN_SOUTH']), down\n",
      "key event at 1671317445.703274, 304 (['BTN_A', 'BTN_GAMEPAD', 'BTN_SOUTH']), up\n",
      "key event at 1671317446.048274, 304 (['BTN_A', 'BTN_GAMEPAD', 'BTN_SOUTH']), down\n",
      "key event at 1671317446.175760, 304 (['BTN_A', 'BTN_GAMEPAD', 'BTN_SOUTH']), up\n",
      "key event at 1671317446.978282, 305 (['BTN_B', 'BTN_EAST']), down\n",
      "key event at 1671317447.150800, 305 (['BTN_B', 'BTN_EAST']), up\n"
     ]
    },
    {
     "ename": "KeyboardInterrupt",
     "evalue": "",
     "output_type": "error",
     "traceback": [
      "\u001b[0;31m---------------------------------------------------------------------------\u001b[0m",
      "\u001b[0;31mKeyboardInterrupt\u001b[0m                         Traceback (most recent call last)",
      "Cell \u001b[0;32mIn[20], line 1\u001b[0m\n\u001b[0;32m----> 1\u001b[0m \u001b[39mfor\u001b[39;00m event \u001b[39min\u001b[39;00m device\u001b[39m.\u001b[39mread_loop():\n\u001b[1;32m      2\u001b[0m     \u001b[39mif\u001b[39;00m event\u001b[39m.\u001b[39mtype \u001b[39m==\u001b[39m evdev\u001b[39m.\u001b[39mecodes\u001b[39m.\u001b[39mEV_KEY:\n\u001b[1;32m      3\u001b[0m         \u001b[39mprint\u001b[39m(evdev\u001b[39m.\u001b[39mcategorize(event))\n",
      "File \u001b[0;32m~/.local/lib/python3.9/site-packages/evdev/eventio.py:45\u001b[0m, in \u001b[0;36mEventIO.read_loop\u001b[0;34m(self)\u001b[0m\n\u001b[1;32m     40\u001b[0m \u001b[39m'''\u001b[39;00m\n\u001b[1;32m     41\u001b[0m \u001b[39mEnter an endless :func:`select.select()` loop that yields input events.\u001b[39;00m\n\u001b[1;32m     42\u001b[0m \u001b[39m'''\u001b[39;00m\n\u001b[1;32m     44\u001b[0m \u001b[39mwhile\u001b[39;00m \u001b[39mTrue\u001b[39;00m:\n\u001b[0;32m---> 45\u001b[0m     r, w, x \u001b[39m=\u001b[39m select\u001b[39m.\u001b[39;49mselect([\u001b[39mself\u001b[39;49m\u001b[39m.\u001b[39;49mfd], [], [])\n\u001b[1;32m     46\u001b[0m     \u001b[39mfor\u001b[39;00m event \u001b[39min\u001b[39;00m \u001b[39mself\u001b[39m\u001b[39m.\u001b[39mread():\n\u001b[1;32m     47\u001b[0m         \u001b[39myield\u001b[39;00m event\n",
      "\u001b[0;31mKeyboardInterrupt\u001b[0m: "
     ]
    }
   ],
   "source": []
  },
  {
   "cell_type": "code",
   "execution_count": null,
   "metadata": {},
   "outputs": [],
   "source": [
    "import time\n",
    "time."
   ]
  }
 ],
 "metadata": {
  "kernelspec": {
   "display_name": "Python 3",
   "language": "python",
   "name": "python3"
  },
  "language_info": {
   "codemirror_mode": {
    "name": "ipython",
    "version": 3
   },
   "file_extension": ".py",
   "mimetype": "text/x-python",
   "name": "python",
   "nbconvert_exporter": "python",
   "pygments_lexer": "ipython3",
   "version": "3.9.2"
  },
  "orig_nbformat": 4,
  "vscode": {
   "interpreter": {
    "hash": "767d51c1340bd893661ea55ea3124f6de3c7a262a8b4abca0554b478b1e2ff90"
   }
  }
 },
 "nbformat": 4,
 "nbformat_minor": 2
}

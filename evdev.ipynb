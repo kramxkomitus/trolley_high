{
 "cells": [
  {
   "attachments": {},
   "cell_type": "markdown",
   "metadata": {},
   "source": [
    "https://python-evdev.readthedocs.io/en/latest/tutorial.html#reading-events"
   ]
  },
  {
   "cell_type": "code",
   "execution_count": 12,
   "metadata": {},
   "outputs": [
    {
     "name": "stdout",
     "output_type": "stream",
     "text": [
      "[InputDevice('/dev/input/event0'), InputDevice('/dev/input/event2'), InputDevice('/dev/input/event1')]\n"
     ]
    }
   ],
   "source": [
    "import evdev"
   ]
  },
  {
   "cell_type": "code",
   "execution_count": 21,
   "metadata": {},
   "outputs": [],
   "source": [
    "def find_gamepad():\n",
    "    devices = [evdev.InputDevice(path) for path in evdev.list_devices()]\n",
    "    for device in devices:\n",
    "        print(\"find controller\", device.path, device.name, device.phys)\n",
    "        if \"Xbox Wireless Controller\" in device.name:\n",
    "            return device\n",
    "        else:\n",
    "            return False"
   ]
  },
  {
   "cell_type": "code",
   "execution_count": null,
   "metadata": {},
   "outputs": [],
   "source": [
    "from evdev import list_devices, InputDevice, categorize, ecodes\n",
    "\n",
    "CENTER_TOLERANCE = 350\n",
    "STICK_MAX = 65536\n",
    "\n",
    "dev = InputDevice( list_devices()[0] )\n",
    "axis = {\n",
    "    ecodes.ABS_X: 'ls_x', # 0 - 65,536   the middle is 32768\n",
    "    ecodes.ABS_Y: 'ls_y',\n",
    "    ecodes.ABS_Z: 'rs_x',\n",
    "    ecodes.ABS_RZ: 'rs_y',\n",
    "    ecodes.ABS_BRAKE: 'lt', # 0 - 1023\n",
    "    ecodes.ABS_GAS: 'rt',\n",
    "\n",
    "    ecodes.ABS_HAT0X: 'dpad_x', # -1 - 1\n",
    "    ecodes.ABS_HAT0Y: 'dpad_y'\n",
    "}\n",
    "\n",
    "center = {\n",
    "    'ls_x': STICK_MAX/2,\n",
    "    'ls_y': STICK_MAX/2,\n",
    "    'rs_x': STICK_MAX/2,\n",
    "    'rs_y': STICK_MAX/2\n",
    "}\n",
    "\n",
    "last = {\n",
    "    'ls_x': STICK_MAX/2,\n",
    "    'ls_y': STICK_MAX/2,\n",
    "    'rs_x': STICK_MAX/2,\n",
    "    'rs_y': STICK_MAX/2\n",
    "}\n",
    "\n",
    "for event in dev.read_loop():\n",
    "\n",
    "    # calibrate zero on Y button\n",
    "    if event.type == ecodes.EV_KEY:\n",
    "        if categorize(event).keycode[0] == \"BTN_WEST\":\n",
    "            center['ls_x'] = last['ls_x']\n",
    "            center['ls_y'] = last['ls_y']\n",
    "            center['rs_x'] = last['rs_x']\n",
    "            center['rs_y'] = last['rs_y']\n",
    "            print( 'calibrated' )\n",
    "\n",
    "    #read stick axis movement\n",
    "    elif event.type == ecodes.EV_ABS:\n",
    "        if axis[ event.code ] in [ 'ls_x', 'ls_y', 'rs_x', 'rs_y' ]:\n",
    "            last[ axis[ event.code ] ] = event.value\n",
    "\n",
    "            value = event.value - center[ axis[ event.code ] ]\n",
    "\n",
    "            if abs( value ) <= CENTER_TOLERANCE:\n",
    "                value = 0\n",
    "\n",
    "            if axis[ event.code ] == 'rs_x':\n",
    "                if value < 0:\n",
    "                    print('left')\n",
    "                else:\n",
    "                    print('right')\n",
    "                print( value )\n",
    "\n",
    "            elif axis[ event.code ] == 'ls_y':\n",
    "                if value < 0:\n",
    "                    print('foreward')\n",
    "                else:\n",
    "                    print('backward')\n",
    "                print( value )"
   ]
  },
  {
   "cell_type": "code",
   "execution_count": 36,
   "metadata": {},
   "outputs": [
    {
     "name": "stdout",
     "output_type": "stream",
     "text": [
      "find controller /dev/input/event0 Xbox Wireless Controller e4:5f:01:cd:bc:ff\n",
      "1\n",
      "1\n",
      "0000000000000000000\n",
      "1\n",
      "1\n",
      "0000000000000000000\n",
      "1\n",
      "1\n",
      "0000000000000000000\n",
      "1\n",
      "1\n",
      "1\n",
      "1\n"
     ]
    },
    {
     "ename": "KeyboardInterrupt",
     "evalue": "",
     "output_type": "error",
     "traceback": [
      "\u001b[0;31m---------------------------------------------------------------------------\u001b[0m",
      "\u001b[0;31mKeyboardInterrupt\u001b[0m                         Traceback (most recent call last)",
      "Cell \u001b[0;32mIn[36], line 5\u001b[0m\n\u001b[1;32m      3\u001b[0m Joystik \u001b[39m=\u001b[39m find_gamepad()\n\u001b[1;32m      4\u001b[0m \u001b[39mif\u001b[39;00m Joystik \u001b[39m!=\u001b[39m \u001b[39mFalse\u001b[39;00m:\n\u001b[0;32m----> 5\u001b[0m     \u001b[39mfor\u001b[39;00m event \u001b[39min\u001b[39;00m Joystik\u001b[39m.\u001b[39mread_loop():\n\u001b[1;32m      7\u001b[0m         \u001b[39mif\u001b[39;00m event\u001b[39m.\u001b[39mtype \u001b[39m==\u001b[39m ecodes\u001b[39m.\u001b[39mEV_KEY:\n\u001b[1;32m      8\u001b[0m             \u001b[39mprint\u001b[39m(event\u001b[39m.\u001b[39mtype)\n",
      "File \u001b[0;32m~/.local/lib/python3.9/site-packages/evdev/eventio.py:45\u001b[0m, in \u001b[0;36mEventIO.read_loop\u001b[0;34m(self)\u001b[0m\n\u001b[1;32m     40\u001b[0m \u001b[39m'''\u001b[39;00m\n\u001b[1;32m     41\u001b[0m \u001b[39mEnter an endless :func:`select.select()` loop that yields input events.\u001b[39;00m\n\u001b[1;32m     42\u001b[0m \u001b[39m'''\u001b[39;00m\n\u001b[1;32m     44\u001b[0m \u001b[39mwhile\u001b[39;00m \u001b[39mTrue\u001b[39;00m:\n\u001b[0;32m---> 45\u001b[0m     r, w, x \u001b[39m=\u001b[39m select\u001b[39m.\u001b[39;49mselect([\u001b[39mself\u001b[39;49m\u001b[39m.\u001b[39;49mfd], [], [])\n\u001b[1;32m     46\u001b[0m     \u001b[39mfor\u001b[39;00m event \u001b[39min\u001b[39;00m \u001b[39mself\u001b[39m\u001b[39m.\u001b[39mread():\n\u001b[1;32m     47\u001b[0m         \u001b[39myield\u001b[39;00m event\n",
      "\u001b[0;31mKeyboardInterrupt\u001b[0m: "
     ]
    }
   ],
   "source": [
    "from evdev import ecodes\n",
    "\n",
    "Joystik = find_gamepad()\n",
    "if Joystik != False:\n",
    "    for event in Joystik.read_loop():\n",
    "        if event.type == ecodes.EV_KEY:\n",
    "            if event.code == 304 and not event.value:\n",
    "                print('0000000000000000000')                        "
   ]
  },
  {
   "cell_type": "code",
   "execution_count": 20,
   "metadata": {},
   "outputs": [
    {
     "name": "stdout",
     "output_type": "stream",
     "text": [
      "key event at 1671317443.933233, 304 (['BTN_A', 'BTN_GAMEPAD', 'BTN_SOUTH']), down\n",
      "key event at 1671317444.060891, 304 (['BTN_A', 'BTN_GAMEPAD', 'BTN_SOUTH']), up\n",
      "key event at 1671317444.810756, 304 (['BTN_A', 'BTN_GAMEPAD', 'BTN_SOUTH']), down\n",
      "key event at 1671317444.945750, 304 (['BTN_A', 'BTN_GAMEPAD', 'BTN_SOUTH']), up\n",
      "key event at 1671317445.500766, 304 (['BTN_A', 'BTN_GAMEPAD', 'BTN_SOUTH']), down\n",
      "key event at 1671317445.703274, 304 (['BTN_A', 'BTN_GAMEPAD', 'BTN_SOUTH']), up\n",
      "key event at 1671317446.048274, 304 (['BTN_A', 'BTN_GAMEPAD', 'BTN_SOUTH']), down\n",
      "key event at 1671317446.175760, 304 (['BTN_A', 'BTN_GAMEPAD', 'BTN_SOUTH']), up\n",
      "key event at 1671317446.978282, 305 (['BTN_B', 'BTN_EAST']), down\n",
      "key event at 1671317447.150800, 305 (['BTN_B', 'BTN_EAST']), up\n"
     ]
    },
    {
     "ename": "KeyboardInterrupt",
     "evalue": "",
     "output_type": "error",
     "traceback": [
      "\u001b[0;31m---------------------------------------------------------------------------\u001b[0m",
      "\u001b[0;31mKeyboardInterrupt\u001b[0m                         Traceback (most recent call last)",
      "Cell \u001b[0;32mIn[20], line 1\u001b[0m\n\u001b[0;32m----> 1\u001b[0m \u001b[39mfor\u001b[39;00m event \u001b[39min\u001b[39;00m device\u001b[39m.\u001b[39mread_loop():\n\u001b[1;32m      2\u001b[0m     \u001b[39mif\u001b[39;00m event\u001b[39m.\u001b[39mtype \u001b[39m==\u001b[39m evdev\u001b[39m.\u001b[39mecodes\u001b[39m.\u001b[39mEV_KEY:\n\u001b[1;32m      3\u001b[0m         \u001b[39mprint\u001b[39m(evdev\u001b[39m.\u001b[39mcategorize(event))\n",
      "File \u001b[0;32m~/.local/lib/python3.9/site-packages/evdev/eventio.py:45\u001b[0m, in \u001b[0;36mEventIO.read_loop\u001b[0;34m(self)\u001b[0m\n\u001b[1;32m     40\u001b[0m \u001b[39m'''\u001b[39;00m\n\u001b[1;32m     41\u001b[0m \u001b[39mEnter an endless :func:`select.select()` loop that yields input events.\u001b[39;00m\n\u001b[1;32m     42\u001b[0m \u001b[39m'''\u001b[39;00m\n\u001b[1;32m     44\u001b[0m \u001b[39mwhile\u001b[39;00m \u001b[39mTrue\u001b[39;00m:\n\u001b[0;32m---> 45\u001b[0m     r, w, x \u001b[39m=\u001b[39m select\u001b[39m.\u001b[39;49mselect([\u001b[39mself\u001b[39;49m\u001b[39m.\u001b[39;49mfd], [], [])\n\u001b[1;32m     46\u001b[0m     \u001b[39mfor\u001b[39;00m event \u001b[39min\u001b[39;00m \u001b[39mself\u001b[39m\u001b[39m.\u001b[39mread():\n\u001b[1;32m     47\u001b[0m         \u001b[39myield\u001b[39;00m event\n",
      "\u001b[0;31mKeyboardInterrupt\u001b[0m: "
     ]
    }
   ],
   "source": []
  }
 ],
 "metadata": {
  "kernelspec": {
   "display_name": "Python 3",
   "language": "python",
   "name": "python3"
  },
  "language_info": {
   "codemirror_mode": {
    "name": "ipython",
    "version": 3
   },
   "file_extension": ".py",
   "mimetype": "text/x-python",
   "name": "python",
   "nbconvert_exporter": "python",
   "pygments_lexer": "ipython3",
   "version": "3.9.2 (default, Mar 12 2021, 04:06:34) \n[GCC 10.2.1 20210110]"
  },
  "orig_nbformat": 4,
  "vscode": {
   "interpreter": {
    "hash": "767d51c1340bd893661ea55ea3124f6de3c7a262a8b4abca0554b478b1e2ff90"
   }
  }
 },
 "nbformat": 4,
 "nbformat_minor": 2
}
